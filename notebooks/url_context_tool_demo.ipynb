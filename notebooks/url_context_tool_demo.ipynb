{
  "nbformat": 4,
  "nbformat_minor": 0,
  "metadata": {
    "colab": {
      "provenance": []
    },
    "kernelspec": {
      "name": "python3",
      "display_name": "Python 3"
    },
    "language_info": {
      "name": "python"
    }
  },
  "cells": [
    {
      "cell_type": "markdown",
      "source": [
        "url-context-tool-sample:\n",
        "Simple example code demonstrating how to use the Google url_context tool.\n",
        "\n",
        "Copyright (C) 2025 Jim Tyhurst\n",
        "\n",
        "This program is free software; you can redistribute it and/or modify\n",
        "it under the terms of the GNU General Public License as published by\n",
        "the Free Software Foundation; either version 2 of the License, or\n",
        "(at your option) any later version.\n",
        "\n",
        "This program is distributed in the hope that it will be useful,\n",
        "but WITHOUT ANY WARRANTY; without even the implied warranty of\n",
        "MERCHANTABILITY or FITNESS FOR A PARTICULAR PURPOSE.  See the\n",
        "GNU General Public License for more details.\n",
        "\n",
        "You should have received a copy of the GNU General Public License along\n",
        "with this program; if not, write to the Free Software Foundation, Inc.,\n",
        "51 Franklin Street, Fifth Floor, Boston, MA 02110-1301 USA."
      ],
      "metadata": {
        "id": "h5ouDSCxXtq7"
      }
    },
    {
      "cell_type": "markdown",
      "source": [
        "# url_context tool\n",
        "\n",
        "This [Google Colab](https://colab.research.google.com/) notebook provides sample code for using the [url_context](https://ai.google.dev/gemini-api/docs/url-context) tool in a [Gemini LLM](https://ai.google.dev/gemini-api/docs/models).\n",
        "\n",
        "This code is based on:\n",
        "    Alisa Fortin. 2025-08-18. [URL context tool for Gemini API now generally available](https://developers.googleblog.com/en/url-context-tool-for-gemini-api-now-generally-available/).\n",
        "\n",
        "This notebook is meant to run in [Google Colab](https://colab.research.google.com/). It assumes that you have defined `GEMINI_API_KEY` as an environment variable in Colab's `Secrets`."
      ],
      "metadata": {
        "id": "HEDBy0UmKWIF"
      }
    },
    {
      "cell_type": "code",
      "source": [
        "# Enable access to environment variables within Google Colab.\n",
        "from google.colab import userdata\n",
        "\n",
        "# Google GenAI packages to access the Gemini API\n",
        "from google import genai\n",
        "from google.genai.types import Tool, GenerateContentConfig"
      ],
      "metadata": {
        "id": "XackSUgANmYt"
      },
      "execution_count": 1,
      "outputs": []
    },
    {
      "cell_type": "markdown",
      "source": [
        "## Configure a Gemini Client\n",
        "\n",
        "- Client documentation: https://googleapis.github.io/python-genai/#create-a-client\n"
      ],
      "metadata": {
        "id": "y4cGx8SFMCcK"
      }
    },
    {
      "cell_type": "code",
      "source": [
        "# Create a Gemini Client\n",
        "# Assumes you have defined `GEMINI_API_KEY` in Colab `Secrets`.\n",
        "client = genai.Client(\n",
        "    api_key=userdata.get(\"GEMINI_API_KEY\"),\n",
        ")"
      ],
      "metadata": {
        "id": "a2BnDn09MF0R"
      },
      "execution_count": 2,
      "outputs": []
    },
    {
      "cell_type": "markdown",
      "source": [
        "# Call the client\n",
        "\n",
        "- List of available models: https://ai.google.dev/gemini-api/docs/models\n",
        "- `url_context` tool documentation: https://ai.google.dev/gemini-api/docs/url-context\n",
        "- `google.genai.types.GenerateContentConfig` documentation: https://googleapis.github.io/python-genai/genai.html#genai.types.GenerateContentConfig\n",
        "\n",
        "## Notes\n",
        "1. Two URLs are provided in the prompt.\n",
        "The LLM will use the `url_context` tool to read information from those two URLs in order to respond to\n",
        "the prompt.\n",
        "2. You should experiment with your own prompts, providing one or more URLs that provide information needed to respond to your prompt.\n",
        "3. You should experiment with other choices of Gemini models, e.g. \"models/gemini-2.5-flash-lite\". Compare the output from the different models."
      ],
      "metadata": {
        "id": "EAP1pL7eO4rr"
      }
    },
    {
      "cell_type": "code",
      "source": [
        "model_id = \"gemini-2.5-pro\"\n",
        "prompt = \"\"\"\n",
        "Compare my qualifications to a job description.\n",
        "\n",
        "- My qualifications are listed in my resume at:\n",
        "https://tyhurst.com/resources/Jim_Tyhurst-Resume-ML_Engineer.pdf\n",
        "- The job description is listed at:\n",
        "https://jobs.ashbyhq.com/scribd/274be712-0a50-4873-a623-0ab4bd0dc47f\n",
        "\n",
        "The response should include two lists:\n",
        "\n",
        "1. The areas where my qualifications satisfy the job description.\n",
        "2. The requirements listed in the job description for which I do not have sufficient qualifications.\n",
        "\n",
        "Return only the two lists. Do not include your chain of thought or any other text.\n",
        "\"\"\"\n",
        "tools = [\n",
        "     {\"url_context\": {}},\n",
        "]\n",
        "\n",
        "response = client.models.generate_content(\n",
        "    model=model_id,\n",
        "    contents=prompt,\n",
        "    config=GenerateContentConfig(\n",
        "        tools=tools,\n",
        "    )\n",
        ")\n",
        "for each in response.candidates[0].content.parts:\n",
        "   print(each.text)"
      ],
      "metadata": {
        "colab": {
          "base_uri": "https://localhost:8080/"
        },
        "id": "8kJlfBZjOgy3",
        "outputId": "35aa019c-131b-4d32-808a-ed42eca5b8c0"
      },
      "execution_count": 3,
      "outputs": [
        {
          "output_type": "stream",
          "name": "stdout",
          "text": [
            "### Areas where qualifications satisfy the job description\n",
            "\n",
            "*   **Experience Level**: The requirement for over 3 years of experience as a professional software or machine learning engineer is met, with experience dating back to 2000.\n",
            "*   **Programming Language Proficiency**: Proficiency in Python, a preferred language for the role, is listed in your technical expertise.\n",
            "*   **Experience Building ML Pipelines**: You have hands-on experience building ML pipelines, as demonstrated by your work as a Senior Data Engineer and an Independent Consultant where you \"designed and prototyped a data pipeline\" and \"built data pipelines\".\n",
            "*   **Cloud Experience**: You have experience with AWS and GCP, which aligns with the cloud experience requirement.\n",
            "*   **Educational Background**: Your Bachelor's degree in Information and Computer Science satisfies the educational requirement.\n",
            "*   **Production Deployment**: You have experience leading projects to production deployment.\n",
            "*   **Natural Language Processing**: Your Ph.D. in Linguistics and extensive experience in natural language processing, including developing parsers and generators, is highly relevant.\n",
            "\n",
            "### Requirements for which qualifications are not sufficiently demonstrated\n",
            "\n",
            "*   **Distributed Data Processing Frameworks**: The job description specifically requests hands-on experience with frameworks like Apache Spark or Databricks, which are not mentioned in your resume.\n",
            "*   **Specific Cloud Services**: The role requires experience with specific AWS services like ECS, EKS, or AWS Lambda, which are not explicitly listed in your qualifications.\n",
            "*   **Modern ML Platform Components**: There is no specific mention of experience with core ML platform capabilities listed in the job description, such as a feature store, model registry, or embedding-based retrieval services.\n",
            "*   **Large Language Model (LLM) Integration**: The job description has a \"Nice to Have\" for experience with LLM integration (e.g., OpenAI, Anthropic), which is not detailed in your resume.\n",
            "*   **A/B Testing**: The responsibility of conducting model experimentation and A/B testing is not explicitly mentioned in your experience.\n"
          ]
        }
      ]
    }
  ]
}